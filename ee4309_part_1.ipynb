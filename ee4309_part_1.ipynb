{
 "cells": [
  {
   "cell_type": "code",
   "execution_count": 2,
   "id": "e9a216c2",
   "metadata": {},
   "outputs": [],
   "source": [
    "import numpy as np"
   ]
  },
  {
   "cell_type": "markdown",
   "id": "40bad0ce",
   "metadata": {},
   "source": [
    "1. Write a NumPy program to create an array of 10 zeros, 10 ones, 10 fives."
   ]
  },
  {
   "cell_type": "code",
   "execution_count": 10,
   "id": "249211f8",
   "metadata": {},
   "outputs": [
    {
     "name": "stdout",
     "output_type": "stream",
     "text": [
      "An array of 10 zeros:\n",
      "[0. 0. 0. 0. 0. 0. 0. 0. 0. 0.]\n",
      "\n",
      "An array of 10 ones:\n",
      "[1. 1. 1. 1. 1. 1. 1. 1. 1. 1.]\n",
      "\n",
      "An array of 10 fives:\n",
      "[5. 5. 5. 5. 5. 5. 5. 5. 5. 5.]\n"
     ]
    }
   ],
   "source": [
    "array = None\n",
    "\n",
    "### start your implementation here ###\n",
    "# array = ... \n",
    "### end your implementation here ###\n",
    "print(\"An array of 10 zeros:\")\n",
    "print(array)\n",
    "\n",
    "### start your implementation here ###\n",
    "# array = ... \n",
    "### end your implementation here ###\n",
    "print(\"\\nAn array of 10 ones:\")\n",
    "print(array)\n",
    "\n",
    "### start your implementation here ###\n",
    "# array = ... \n",
    "### end your implementation here ###\n",
    "print(\"\\nAn array of 10 fives:\")\n",
    "print(array)"
   ]
  },
  {
   "cell_type": "markdown",
   "id": "17cba006",
   "metadata": {},
   "source": [
    "2. Write a NumPy program to create an array of the integers from 30 to 70."
   ]
  },
  {
   "cell_type": "code",
   "execution_count": 9,
   "id": "5d80e4aa",
   "metadata": {},
   "outputs": [
    {
     "name": "stdout",
     "output_type": "stream",
     "text": [
      "Array of the integers from 30 to70\n",
      "[30 31 32 33 34 35 36 37 38 39 40 41 42 43 44 45 46 47 48 49 50 51 52 53\n",
      " 54 55 56 57 58 59 60 61 62 63 64 65 66 67 68 69 70]\n"
     ]
    }
   ],
   "source": [
    "array = None\n",
    "\n",
    "### start your implementation here ###\n",
    "# array = ... \n",
    "### end your implementation here ###\n",
    "print(\"Array of the integers from 30 to 70\")\n",
    "print(array)"
   ]
  },
  {
   "cell_type": "markdown",
   "id": "622071b8",
   "metadata": {},
   "source": [
    "3. Write a NumPy program to create a 3x3 identity matrix."
   ]
  },
  {
   "cell_type": "code",
   "execution_count": 11,
   "id": "1314236d",
   "metadata": {},
   "outputs": [
    {
     "name": "stdout",
     "output_type": "stream",
     "text": [
      "3x3 matrix:\n",
      "[[1. 0. 0.]\n",
      " [0. 1. 0.]\n",
      " [0. 0. 1.]]\n"
     ]
    }
   ],
   "source": [
    "array_2D = None\n",
    "\n",
    "### start your implementation here ###\n",
    "# array = ... \n",
    "### end your implementation here ###\n",
    "print('3x3 matrix:')\n",
    "print(array_2D)"
   ]
  },
  {
   "cell_type": "markdown",
   "id": "5acc3dd6",
   "metadata": {},
   "source": [
    "4. Write a NumPy program to create a 10x10 matrix, in which the elements on the borders will be equal to 1, and inside 0."
   ]
  },
  {
   "cell_type": "code",
   "execution_count": 2,
   "id": "fa9d9f8c",
   "metadata": {},
   "outputs": [
    {
     "name": "stdout",
     "output_type": "stream",
     "text": [
      "[[1. 1. 1. 1. 1. 1. 1. 1. 1. 1.]\n",
      " [1. 0. 0. 0. 0. 0. 0. 0. 0. 1.]\n",
      " [1. 0. 0. 0. 0. 0. 0. 0. 0. 1.]\n",
      " [1. 0. 0. 0. 0. 0. 0. 0. 0. 1.]\n",
      " [1. 0. 0. 0. 0. 0. 0. 0. 0. 1.]\n",
      " [1. 0. 0. 0. 0. 0. 0. 0. 0. 1.]\n",
      " [1. 0. 0. 0. 0. 0. 0. 0. 0. 1.]\n",
      " [1. 0. 0. 0. 0. 0. 0. 0. 0. 1.]\n",
      " [1. 0. 0. 0. 0. 0. 0. 0. 0. 1.]\n",
      " [1. 1. 1. 1. 1. 1. 1. 1. 1. 1.]]\n"
     ]
    }
   ],
   "source": [
    "x = None\n",
    "\n",
    "### start your implementation here ###\n",
    "# x = ...\n",
    "# x[...] = ... \n",
    "### end your implementation here ###\n",
    "print(x)"
   ]
  },
  {
   "cell_type": "markdown",
   "id": "de72278f",
   "metadata": {},
   "source": [
    "5. Write a NumPy program to create a 4x4 matrix in which 0 and 1 are staggered, with zeros on the main diagonal."
   ]
  },
  {
   "cell_type": "code",
   "execution_count": 3,
   "id": "13a4e090",
   "metadata": {},
   "outputs": [
    {
     "name": "stdout",
     "output_type": "stream",
     "text": [
      "[[0. 1. 0. 1.]\n",
      " [1. 0. 1. 0.]\n",
      " [0. 1. 0. 1.]\n",
      " [1. 0. 1. 0.]]\n"
     ]
    }
   ],
   "source": [
    "x = None\n",
    "\n",
    "### start your implementation here ###\n",
    "# x = ...\n",
    "# x[...] = ... \n",
    "# x[...] = ...\n",
    "### end your implementation here ###\n",
    "print(x)"
   ]
  },
  {
   "cell_type": "markdown",
   "id": "0656481f",
   "metadata": {},
   "source": [
    "6. Write a NumPy program to create a 4x4 array with random values, now create a new array from the said array swapping first and last rows."
   ]
  },
  {
   "cell_type": "code",
   "execution_count": 7,
   "id": "e3ff17c9",
   "metadata": {},
   "outputs": [
    {
     "name": "stdout",
     "output_type": "stream",
     "text": [
      "Original array:\n",
      "[[ 0  1  2  3]\n",
      " [ 4  5  6  7]\n",
      " [ 8  9 10 11]\n",
      " [12 13 14 15]]\n",
      "\n",
      "New array after swapping first and last rows of the said array:\n",
      "[[12 13 14 15]\n",
      " [ 4  5  6  7]\n",
      " [ 8  9 10 11]\n",
      " [ 0  1  2  3]]\n"
     ]
    }
   ],
   "source": [
    "nums = np.arange(16, dtype='int').reshape(-1, 4)\n",
    "print(\"Original array:\")\n",
    "print(nums)\n",
    "print(\"\\nNew array after swapping first and last rows of the said array:\")\n",
    "### start your implementation here ###\n",
    "# nums[...] = ...\n",
    "### end your implementation here ###\n",
    "print(nums)"
   ]
  },
  {
   "cell_type": "markdown",
   "id": "a74cfc12",
   "metadata": {},
   "source": [
    "7. Write a NumPy program to Create a 1-D array of 30 evenly spaced elements between 2.5. and 6.5, inclusive."
   ]
  },
  {
   "cell_type": "code",
   "execution_count": 8,
   "id": "bb70829f",
   "metadata": {},
   "outputs": [
    {
     "name": "stdout",
     "output_type": "stream",
     "text": [
      "[2.5        2.63793103 2.77586207 2.9137931  3.05172414 3.18965517\n",
      " 3.32758621 3.46551724 3.60344828 3.74137931 3.87931034 4.01724138\n",
      " 4.15517241 4.29310345 4.43103448 4.56896552 4.70689655 4.84482759\n",
      " 4.98275862 5.12068966 5.25862069 5.39655172 5.53448276 5.67241379\n",
      " 5.81034483 5.94827586 6.0862069  6.22413793 6.36206897 6.5       ]\n"
     ]
    }
   ],
   "source": [
    "x = None\n",
    "\n",
    "### start your implementation here ###\n",
    "# x = ...\n",
    "# x[...] = ... \n",
    "### end your implementation here ###\n",
    "print(x)"
   ]
  },
  {
   "cell_type": "markdown",
   "id": "7fb69d88",
   "metadata": {},
   "source": [
    "8. Write a NumPy program to replace all elements of NumPy array that are greater than 0.5 to be 0.5."
   ]
  },
  {
   "cell_type": "code",
   "execution_count": 10,
   "id": "6affc4e0",
   "metadata": {},
   "outputs": [
    {
     "name": "stdout",
     "output_type": "stream",
     "text": [
      "Original array:\n",
      "[[0.42436315 0.48558583 0.32924763]\n",
      " [0.7439979  0.58220701 0.38213418]\n",
      " [0.5097581  0.34528799 0.1563123 ]]\n",
      "Replace all elements of the said array with .5 which are greater than .5\n",
      "[[0.42436315 0.48558583 0.32924763]\n",
      " [0.5        0.5        0.38213418]\n",
      " [0.5        0.34528799 0.1563123 ]]\n"
     ]
    }
   ],
   "source": [
    "x = np.array([[ 0.42436315, 0.48558583, 0.32924763], [ 0.7439979,0.58220701,0.38213418], [ 0.5097581,0.34528799,0.1563123 ]])\n",
    "print(\"Original array:\")\n",
    "print(x)\n",
    "print(\"Replace all elements of the said array with .5 which are greater than .5\")\n",
    "### start your implementation here ###\n",
    "# x[...] = ... \n",
    "### end your implementation here ###\n",
    "print(x)"
   ]
  },
  {
   "cell_type": "markdown",
   "id": "85b34c63",
   "metadata": {},
   "source": [
    "9. Write a NumPy program to stack arrays in sequence horizontally (column wise)."
   ]
  },
  {
   "cell_type": "code",
   "execution_count": 13,
   "id": "3b02acbb",
   "metadata": {},
   "outputs": [
    {
     "name": "stdout",
     "output_type": "stream",
     "text": [
      "\n",
      "Original arrays:\n",
      "Array-1\n",
      "[[0 1 2]\n",
      " [3 4 5]\n",
      " [6 7 8]]\n",
      "Array-2\n",
      "[[ 0  3  6]\n",
      " [ 9 12 15]\n",
      " [18 21 24]]\n",
      "\n",
      "Stack arrays in sequence horizontally:\n",
      "[[ 0  1  2  0  3  6]\n",
      " [ 3  4  5  9 12 15]\n",
      " [ 6  7  8 18 21 24]]\n"
     ]
    }
   ],
   "source": [
    "print(\"\\nOriginal arrays:\")\n",
    "x = np.arange(9).reshape(3,3)\n",
    "y = x*3\n",
    "print(\"Array-1\")\n",
    "print(x)\n",
    "print(\"Array-2\")\n",
    "print(y)\n",
    "\n",
    "new_array = None\n",
    "### start your implementation here ###\n",
    "# new_array = ... \n",
    "### end your implementation here ###\n",
    "print(\"\\nStack arrays in sequence horizontally:\")\n",
    "print(new_array)"
   ]
  },
  {
   "cell_type": "markdown",
   "id": "cea03317",
   "metadata": {},
   "source": [
    "10. Write a NumPy program to stack arrays in sequence vertically."
   ]
  },
  {
   "cell_type": "code",
   "execution_count": 4,
   "id": "f83be1b6",
   "metadata": {},
   "outputs": [
    {
     "name": "stdout",
     "output_type": "stream",
     "text": [
      "\n",
      "Original arrays:\n",
      "Array-1\n",
      "[[0 1 2]\n",
      " [3 4 5]\n",
      " [6 7 8]]\n",
      "Array-2\n",
      "[[ 0  3  6]\n",
      " [ 9 12 15]\n",
      " [18 21 24]]\n",
      "\n",
      "Stack arrays in sequence vertically:\n",
      "[[ 0  1  2]\n",
      " [ 3  4  5]\n",
      " [ 6  7  8]\n",
      " [ 0  3  6]\n",
      " [ 9 12 15]\n",
      " [18 21 24]]\n"
     ]
    }
   ],
   "source": [
    "print(\"\\nOriginal arrays:\")\n",
    "x = np.arange(9).reshape(3,3)\n",
    "y = x*3\n",
    "print(\"Array-1\")\n",
    "print(x)\n",
    "print(\"Array-2\")\n",
    "print(y)\n",
    "new_array = None\n",
    "### start your implementation here ###\n",
    "# new_array = ... \n",
    "### end your implementation here ###\n",
    "print(new_array)"
   ]
  },
  {
   "cell_type": "markdown",
   "id": "16a9f806",
   "metadata": {},
   "source": [
    "11. Write a NumPy program to extract first, third and fifth elements of the third and fifth rows from a given (6x6) array."
   ]
  },
  {
   "cell_type": "code",
   "execution_count": 6,
   "id": "43637ecd",
   "metadata": {},
   "outputs": [
    {
     "name": "stdout",
     "output_type": "stream",
     "text": [
      "Original array:\n",
      "[[ 0  1  2  3  4  5]\n",
      " [ 6  7  8  9 10 11]\n",
      " [12 13 14 15 16 17]\n",
      " [18 19 20 21 22 23]\n",
      " [24 25 26 27 28 29]\n",
      " [30 31 32 33 34 35]]\n",
      "\n",
      "Extracted data: First, third and fifth elements of the third and fifth rows\n",
      "[[12 14 16]\n",
      " [24 26 28]]\n"
     ]
    }
   ],
   "source": [
    "arra_data = np.arange(0,36).reshape((6, 6))\n",
    "print(\"Original array:\")\n",
    "print(arra_data)\n",
    "print(\"\\nExtracted data: First, third and fifth elements of the third and fifth rows\")\n",
    "\n",
    "### start your implementation here ###\n",
    "# print(array_data[...]) \n",
    "### end your implementation here ###"
   ]
  },
  {
   "cell_type": "markdown",
   "id": "985d568f",
   "metadata": {},
   "source": [
    "12. Write a NumPy program to check whether a Numpy array contains a specified row."
   ]
  },
  {
   "cell_type": "code",
   "execution_count": 14,
   "id": "5ac2aed9",
   "metadata": {},
   "outputs": [
    {
     "name": "stdout",
     "output_type": "stream",
     "text": [
      "Original array:\n",
      "[[ 0  1  2  3  4]\n",
      " [ 5  6  7  8  9]\n",
      " [10 11 12 13 14]\n",
      " [15 16 17 18 19]]\n",
      "True\n",
      "False\n",
      "True\n"
     ]
    }
   ],
   "source": [
    "num = np.arange(20)\n",
    "arr1 = np.reshape(num, [4, 5])\n",
    "print(\"Original array:\")\n",
    "print(arr1)\n",
    "### start your implementation here ###\n",
    "# print(...) #check if [0, 1, 2, 3, 4] is in arr1\n",
    "# print(...) #check if [0, 1, 2, 3, 5] is in arr1\n",
    "# print(...) #check if [15, 16, 17, 18, 19] is in arr1\n",
    "### end your implementation here ###"
   ]
  },
  {
   "cell_type": "markdown",
   "id": "83c65a54",
   "metadata": {},
   "source": [
    "13. Write a NumPy program to compute the multiplication of two given matrixes."
   ]
  },
  {
   "cell_type": "code",
   "execution_count": 17,
   "id": "38ee1d7d",
   "metadata": {},
   "outputs": [
    {
     "name": "stdout",
     "output_type": "stream",
     "text": [
      "original matrix:\n",
      "[[1, 0], [0, 1]]\n",
      "[[1, 2], [3, 4]]\n",
      "\n",
      "Result of the said matrix multiplication:\n",
      "[[1 2]\n",
      " [3 4]]\n"
     ]
    }
   ],
   "source": [
    "p = [[1, 0], [0, 1]]\n",
    "q = [[1, 2], [3, 4]]\n",
    "print(\"original matrix:\")\n",
    "print(p)\n",
    "print(q)\n",
    "\n",
    "result = None\n",
    "### start your implementation here ###\n",
    "# result = ...\n",
    "### end your implementation here ###\n",
    "print(\"\\nResult of the said matrix multiplication:\")\n",
    "print(result)"
   ]
  },
  {
   "cell_type": "markdown",
   "id": "81b06285",
   "metadata": {},
   "source": [
    "14. Write a NumPy program to compute the outer product of two given vectors."
   ]
  },
  {
   "cell_type": "code",
   "execution_count": 18,
   "id": "54a66486",
   "metadata": {},
   "outputs": [
    {
     "name": "stdout",
     "output_type": "stream",
     "text": [
      "original matrix:\n",
      "[[1, 0], [0, 1]]\n",
      "[[1, 2], [3, 4]]\n",
      "\n",
      "Outer product of the said two vectors:\n",
      "[[1 2 3 4]\n",
      " [0 0 0 0]\n",
      " [0 0 0 0]\n",
      " [1 2 3 4]]\n"
     ]
    }
   ],
   "source": [
    "p = [[1, 0], [0, 1]]\n",
    "q = [[1, 2], [3, 4]]\n",
    "print(\"original matrix:\")\n",
    "print(p)\n",
    "print(q)\n",
    "\n",
    "result = None\n",
    "### start your implementation here ###\n",
    "# result = ...\n",
    "### end your implementation here ###\n",
    "print(\"\\nOuter product of the said two vectors:\")\n",
    "print(result)"
   ]
  },
  {
   "cell_type": "markdown",
   "id": "0c423400",
   "metadata": {},
   "source": [
    "15. Write a NumPy program to create a 5x5 array with random values and find the minimum and maximum values."
   ]
  },
  {
   "cell_type": "code",
   "execution_count": 20,
   "id": "363b045d",
   "metadata": {},
   "outputs": [
    {
     "name": "stdout",
     "output_type": "stream",
     "text": [
      "Original Array:\n",
      "[[0.6965 0.2861 0.2269 0.5513 0.7195]\n",
      " [0.4231 0.9808 0.6848 0.4809 0.3921]\n",
      " [0.3432 0.729  0.4386 0.0597 0.398 ]\n",
      " [0.738  0.1825 0.1755 0.5316 0.5318]\n",
      " [0.6344 0.8494 0.7245 0.611  0.7224]]\n",
      "\n",
      "Minimum and Maximum Values:\n",
      "0.05967789660956835 0.9807641983846155\n"
     ]
    }
   ],
   "source": [
    "np.random.seed(123)\n",
    "x = np.random.random((5,5))\n",
    "print(\"Original Array:\")\n",
    "print(x) \n",
    "\n",
    "xmin, xmax = None, None\n",
    "### start your implementation here ###\n",
    "# xmin, xmax = ...\n",
    "### end your implementation here ###\n",
    "print(\"\\nMinimum and Maximum Values:\")\n",
    "print(xmin, xmax)"
   ]
  },
  {
   "cell_type": "markdown",
   "id": "46127858",
   "metadata": {},
   "source": [
    "16. Write a NumPy program to normalize a 3x3 random matrix following `x = (x - min)/(max - min)`."
   ]
  },
  {
   "cell_type": "code",
   "execution_count": 22,
   "id": "a34e573c",
   "metadata": {},
   "outputs": [
    {
     "name": "stdout",
     "output_type": "stream",
     "text": [
      "Original Array:\n",
      "[[0.6965 0.2861 0.2269]\n",
      " [0.5513 0.7195 0.4231]\n",
      " [0.9808 0.6848 0.4809]]\n",
      "\n",
      "After normalization:\n",
      "[[0.6229 0.0786 0.    ]\n",
      " [0.4304 0.6534 0.2603]\n",
      " [1.     0.6075 0.337 ]]\n"
     ]
    }
   ],
   "source": [
    "np.random.seed(123)\n",
    "x = np.random.random((3,3))\n",
    "print(\"Original Array:\")\n",
    "print(x)\n",
    "### start your implementation here ###\n",
    "# x = ...\n",
    "### end your implementation here ###\n",
    "print(\"\\nAfter normalization:\")\n",
    "print(x)"
   ]
  },
  {
   "cell_type": "markdown",
   "id": "8ff78a8f",
   "metadata": {},
   "source": [
    "17. Write a NumPy program to find the nearest value from a given value(4) in an array."
   ]
  },
  {
   "cell_type": "code",
   "execution_count": 26,
   "id": "c95859d5",
   "metadata": {},
   "outputs": [
    {
     "name": "stdout",
     "output_type": "stream",
     "text": [
      "4.147532684454174\n"
     ]
    }
   ],
   "source": [
    "np.random.seed(123)\n",
    "x = np.random.uniform(1, 12, 5)\n",
    "v = 4\n",
    "n = None\n",
    "### start your implementation here ###\n",
    "# n = ...\n",
    "### end your implementation here ###\n",
    "print(n)"
   ]
  },
  {
   "cell_type": "markdown",
   "id": "1c175d18",
   "metadata": {},
   "source": [
    "18. Write a NumPy program to create random vector of size 15 and replace the maximum value by -1."
   ]
  },
  {
   "cell_type": "code",
   "execution_count": 28,
   "id": "d325ec02",
   "metadata": {},
   "outputs": [
    {
     "name": "stdout",
     "output_type": "stream",
     "text": [
      "Original array:\n",
      "[0.6965 0.2861 0.2269 0.5513 0.7195 0.4231 0.9808 0.6848 0.4809 0.3921\n",
      " 0.3432 0.729  0.4386 0.0597 0.398 ]\n",
      "\n",
      "Maximum value replaced by -1:\n",
      "[ 0.6965  0.2861  0.2269  0.5513  0.7195  0.4231 -1.      0.6848  0.4809\n",
      "  0.3921  0.3432  0.729   0.4386  0.0597  0.398 ]\n"
     ]
    }
   ],
   "source": [
    "np.random.seed(123)\n",
    "x = np.random.random(15)\n",
    "print(\"Original array:\")\n",
    "print(x)\n",
    "\n",
    "### start your implementation here ###\n",
    "# x[...] = ...\n",
    "### end your implementation here ###\n",
    "print(\"\\nMaximum value replaced by -1:\")\n",
    "print(x)"
   ]
  },
  {
   "cell_type": "markdown",
   "id": "76b6dbf6",
   "metadata": {},
   "source": [
    "19. Write a NumPy program to get the n largest values of an array."
   ]
  },
  {
   "cell_type": "code",
   "execution_count": 34,
   "id": "f84b0434",
   "metadata": {},
   "outputs": [
    {
     "name": "stdout",
     "output_type": "stream",
     "text": [
      "Original array:\n",
      "[0 1 2 3 4 5 6 7 8 9]\n",
      "\n",
      "Shuffled array:\n",
      "[3 6 9 8 0 4 2 1 7 5]\n",
      "\n",
      "3-largest values:  [7 8 9]\n"
     ]
    }
   ],
   "source": [
    "x = np.arange(10)\n",
    "print(\"Original array:\")\n",
    "print(x)\n",
    "np.random.shuffle(x)\n",
    "print(\"\\nShuffled array:\")\n",
    "print(x)\n",
    "\n",
    "n = 3\n",
    "result = None\n",
    "### start your implementation here ###\n",
    "# result = ...\n",
    "### end your implementation here ###\n",
    "print (f\"\\n{n}-largest values: \", result)"
   ]
  },
  {
   "cell_type": "markdown",
   "id": "093e9e6c",
   "metadata": {},
   "source": [
    "20. Write a NumPy program to get the floor, ceiling and truncated values of the elements of a numpy array."
   ]
  },
  {
   "cell_type": "code",
   "execution_count": 3,
   "id": "88c423da",
   "metadata": {},
   "outputs": [
    {
     "name": "stdout",
     "output_type": "stream",
     "text": [
      "Original array:\n",
      "[-1.6 -1.5 -0.3  0.1  1.4  1.8  2. ]\n",
      "\n",
      "Floor values of the above array elements:\n",
      "[-2. -2. -1.  0.  1.  1.  2.]\n",
      "\n",
      "Ceil values of the above array elements:\n",
      "[-1. -1. -0.  1.  2.  2.  2.]\n",
      "\n",
      "Truncated values of the above array elements:\n",
      "[-1. -1. -0.  0.  1.  1.  2.]\n"
     ]
    }
   ],
   "source": [
    "x = np.array([-1.6, -1.5, -0.3, 0.1, 1.4, 1.8, 2.0])\n",
    "print(\"Original array:\")\n",
    "### start your implementation here ###\n",
    "# print(...)\n",
    "### end your implementation here ###\n",
    "\n",
    "print(\"\\nFloor values of the above array elements:\")\n",
    "### start your implementation here ###\n",
    "# print(...)\n",
    "### end your implementation here ###\n",
    "\n",
    "print(\"\\nCeil values of the above array elements:\")\n",
    "### start your implementation here ###\n",
    "# print(...)\n",
    "### end your implementation here ###\n",
    "\n",
    "print(\"\\nTruncated values of the above array elements:\")\n",
    "### start your implementation here ###\n",
    "# print(...)\n",
    "### end your implementation here ###"
   ]
  },
  {
   "cell_type": "markdown",
   "id": "746d270d",
   "metadata": {},
   "source": [
    "21. Write a NumPy program to calculate the probabilities given the unnormalized logits (Refer to Deep Learning - Part I - Softmax Loss)."
   ]
  },
  {
   "cell_type": "code",
   "execution_count": 39,
   "id": "f4cdfb5d",
   "metadata": {},
   "outputs": [
    {
     "name": "stdout",
     "output_type": "stream",
     "text": [
      "[0.1137 0.0754 0.0711 0.0983 0.1163 0.0865 0.151  0.1123 0.0916 0.0838]\n",
      "1.0\n"
     ]
    }
   ],
   "source": [
    "np.random.seed(123)\n",
    "num_classes = 10\n",
    "logits = np.random.rand(num_classes)\n",
    "\n",
    "prob = None\n",
    "### start your implementation here ###\n",
    "# ...\n",
    "# prob = ...\n",
    "### end your implementation here ###\n",
    "\n",
    "print(prob)\n",
    "print(prob.sum()) # check if prob is summed up to 1."
   ]
  },
  {
   "cell_type": "markdown",
   "id": "c2f1606f",
   "metadata": {},
   "source": [
    "22. Write a NumPy program to calculate the probabilities given the unnormalized logits. Here, the array of logits is of 2 dimensions: `(num_samples x num_classes)`. Figure out the probabilities for each sample."
   ]
  },
  {
   "cell_type": "code",
   "execution_count": 40,
   "id": "990301bc",
   "metadata": {},
   "outputs": [
    {
     "name": "stdout",
     "output_type": "stream",
     "text": [
      "[[0.1137 0.0754 0.0711 0.0983 0.1163 0.0865 0.151  0.1123 0.0916 0.0838]\n",
      " [0.0911 0.134  0.1002 0.0686 0.0962 0.1352 0.0776 0.077  0.11   0.11  ]\n",
      " [0.1079 0.1337 0.118  0.1054 0.1178 0.079  0.0821 0.0719 0.0767 0.1075]\n",
      " [0.0648 0.0912 0.091  0.0969 0.0905 0.0808 0.0906 0.1445 0.152  0.0977]]\n",
      "[1. 1. 1. 1.]\n"
     ]
    }
   ],
   "source": [
    "np.random.seed(123)\n",
    "\n",
    "num_samples = 4\n",
    "num_classes = 10\n",
    "\n",
    "logits = np.random.rand(num_samples, num_classes) \n",
    "### start your implementation here ###\n",
    "# ...\n",
    "# prob = ...\n",
    "### end your implementation here ###\n",
    "print(prob)\n",
    "print(prob.sum(1)) # check: for each sample, prob is summed up to 1."
   ]
  },
  {
   "cell_type": "markdown",
   "id": "d7f01421",
   "metadata": {},
   "source": [
    "23. Write a NumPy program to calculate the Softmax Loss given the unnormalized logits and the ground-truth labels of the samples. Here, the shape of logits is: `(num_samples x num_classes)` and the shape of GT labels is `(num_samples,)`, each of which is the corresponding label for that sample. Figure out the total Softmax Loss."
   ]
  },
  {
   "cell_type": "code",
   "execution_count": 41,
   "id": "dfda0683",
   "metadata": {},
   "outputs": [
    {
     "name": "stdout",
     "output_type": "stream",
     "text": [
      "9.617162525900268\n"
     ]
    }
   ],
   "source": [
    "np.random.seed(123)\n",
    "\n",
    "n_samples = 4\n",
    "n_classes = 10\n",
    "\n",
    "logits = np.random.rand(n_samples, n_classes)\n",
    "labels = np.random.randint(0, 10, size=(n_samples,))\n",
    "\n",
    "loss = None\n",
    "### start your implementation here ###\n",
    "# ...\n",
    "# prob = ...\n",
    "# loss = ...\n",
    "### end your implementation here ###\n",
    "\n",
    "print(loss)"
   ]
  },
  {
   "cell_type": "markdown",
   "id": "2b666655",
   "metadata": {},
   "source": [
    "24. Write a NumPy program to calculate the accuracy for classification. Given the output logits of the model (`num_samples x num_classes`) and the ground-truth labels of corresponding samples (`num_samples`,), calculate the accuracy of the classification result."
   ]
  },
  {
   "cell_type": "code",
   "execution_count": 2,
   "id": "1ceb97d2",
   "metadata": {},
   "outputs": [
    {
     "name": "stdout",
     "output_type": "stream",
     "text": [
      "0.09\n"
     ]
    }
   ],
   "source": [
    "np.random.seed(123)\n",
    "\n",
    "n_samples = 100\n",
    "n_classes = 20\n",
    "\n",
    "logits = np.random.randn(n_samples, n_classes)\n",
    "labels = np.random.randint(0, n_classes, (n_samples,))\n",
    "\n",
    "acc = None\n",
    "### start your implementation here ###\n",
    "# ...\n",
    "# acc = ...\n",
    "### end your implementation here ###\n",
    "\n",
    "print(acc)"
   ]
  },
  {
   "cell_type": "markdown",
   "id": "3dcfa3f7",
   "metadata": {},
   "source": [
    "25. Write a NumPy program to calculate the precision, recall and f1-score for a binary-classification problem:\n",
    "\n",
    "(1). Given the output of a model (`num_samples`,), calculate the probability of being class-1 by implementing a sigmoid function, i.e., $p(x=1)=sigmoid(output)$.\n",
    "\n",
    "(2). Suppose we use a threshold $\\tau=0.5$, and if $p(x)>\\tau$, the model will predict the corresponding sample as class-1, else class-0.\n",
    "\n",
    "(3). Compare the model predictions with the given ground-truth labels (`num_samples`,), and calculate the precision, recall of class-1."
   ]
  },
  {
   "cell_type": "code",
   "execution_count": 3,
   "id": "3ee491c2",
   "metadata": {},
   "outputs": [
    {
     "name": "stdout",
     "output_type": "stream",
     "text": [
      "recall of class-1: 0.4857142857142857, precision of class-1:0.6938775510204082.\n"
     ]
    }
   ],
   "source": [
    "n_samples = 100\n",
    "thres = 0.5\n",
    "r = 0.7\n",
    "zeros = np.zeros(n_samples,)\n",
    "one_indices = np.random.choice(n_samples, int(r*n_samples), replace=False)\n",
    "zeros[one_indices] = 1\n",
    "\n",
    "labels = np.copy(zeros)\n",
    "outp = np.random.randn(n_samples,)\n",
    "\n",
    "# sigmoid function\n",
    "def sigmoid(x):\n",
    "    pass # delete this line and implement the sigmoid function below\n",
    "    ### start your implementation here ###\n",
    "    # ...\n",
    "    # return ...\n",
    "    ### start your implementation here ###\n",
    "\n",
    "p = sigmoid(outp)\n",
    "### start your implementation here ###\n",
    "# ...\n",
    "# pred = ...  # those predicted to be class 1\n",
    "### end your implementation here ###\n",
    "\n",
    "# TP of class-1\n",
    "tp = None\n",
    "### start your implementation here ###\n",
    "# tp = ... # true positive\n",
    "### end your implementation here ###\n",
    "\n",
    "# recall of class-1\n",
    "recall = None\n",
    "### your implementation here ###\n",
    "# recall = ...\n",
    "### your implementation here ###\n",
    "\n",
    "# precision of class-1\n",
    "prec = None\n",
    "### start your implementation here ###\n",
    "# prec = ...\n",
    "### end your implementation here ###\n",
    "\n",
    "print(f\"recall of class-1: {recall}, precision of class-1:{prec}.\")"
   ]
  },
  {
   "cell_type": "markdown",
   "id": "45363c85",
   "metadata": {},
   "source": [
    "26. Implement Convolution ($I$).\n",
    "\n",
    "\n",
    "Recall the contents in the lecture, for a convolutional layer, an input tensor\n",
    "and a kernel tensor are combined to produce an output tensor through a (**cross-correlation operation.**)\n",
    "\n",
    "Let's ignore channels for now and see how this works with two-dimensional data and hidden representations.\n",
    "In the following figure, the input is a two-dimensional tensor with a height of 3 and width of 3.\n",
    "We mark the shape of the tensor as $3 \\times 3$ or ($3$, $3$).\n",
    "The height and width of the kernel are both 2.\n",
    "The shape of the *kernel window* (or *convolution window*)\n",
    "is given by the height and width of the kernel\n",
    "(here it is $2 \\times 2$).\n",
    "\n",
    "![Two-dimensional cross-correlation operation. The shaded portions are the first output element as well as the input and kernel tensor elements used for the output computation: $0\\times0+1\\times1+3\\times2+4\\times3=19$.](./fig/correlation.svg)\n",
    "\n",
    "\n",
    "In the two-dimensional cross-correlation operation,\n",
    "we begin with the convolution window positioned\n",
    "at the upper-left corner of the input tensor\n",
    "and slide it across the input tensor,\n",
    "both from left to right and top to bottom.\n",
    "When the convolution window slides to a certain position,\n",
    "the input subtensor contained in that window\n",
    "and the kernel tensor are multiplied elementwise\n",
    "and the resulting tensor is summed up\n",
    "yielding a single scalar value.\n",
    "This result gives the value of the output tensor\n",
    "at the corresponding location.\n",
    "Here, the output tensor has a height of 2 and width of 2\n",
    "and the four elements are derived from\n",
    "the two-dimensional cross-correlation operation:\n",
    "\n",
    "$$\n",
    "0\\times0+1\\times1+3\\times2+4\\times3=19,\\\\\n",
    "1\\times0+2\\times1+4\\times2+5\\times3=25,\\\\\n",
    "3\\times0+4\\times1+6\\times2+7\\times3=37,\\\\\n",
    "4\\times0+5\\times1+7\\times2+8\\times3=43.\n",
    "$$\n",
    "\n",
    "Note that along each axis, the output size\n",
    "is slightly smaller than the input size.\n",
    "Because the kernel has width and height greater than one,\n",
    "we can only properly compute the cross-correlation\n",
    "for locations where the kernel fits wholly within the image,\n",
    "the output size is given by the input size $n_h \\times n_w$\n",
    "minus the size of the convolution kernel $k_h \\times k_w$\n",
    "via\n",
    "\n",
    "$$(n_h-k_h+1) \\times (n_w-k_w+1).$$\n",
    "\n",
    "This is the case since we need enough space\n",
    "to \"shift\" the convolution kernel across the image\n",
    "(We do not consider padding here).\n",
    "Now, we implement this process in the `conv2d` function,\n",
    "which accepts an input tensor `X` and a kernel tensor `K`\n",
    "and returns an output tensor `Y`."
   ]
  },
  {
   "cell_type": "code",
   "execution_count": 4,
   "id": "bdd8ec2e",
   "metadata": {},
   "outputs": [
    {
     "data": {
      "text/plain": [
       "tensor([[19., 25.],\n",
       "        [37., 43.]])"
      ]
     },
     "execution_count": 4,
     "metadata": {},
     "output_type": "execute_result"
    }
   ],
   "source": [
    "import torch\n",
    "from torch import nn\n",
    "\n",
    "def conv2d(X, K):\n",
    "    \"\"\"Compute 2D cross-correlation.\"\"\"\n",
    "    h, w = K.shape\n",
    "    Y = torch.zeros((X.shape[0] - h + 1, X.shape[1] - w + 1))\n",
    "    for i in range(Y.shape[0]):\n",
    "        for j in range(Y.shape[1]):\n",
    "            pass # delete this line and implement the sigmoid function below \n",
    "            ### start your implementation here ###\n",
    "            # Y[...] = \n",
    "            ### end your implementation here ###\n",
    "    return Y\n",
    "\n",
    "X = torch.tensor([[0.0, 1.0, 2.0], [3.0, 4.0, 5.0], [6.0, 7.0, 8.0]])\n",
    "K = torch.tensor([[0.0, 1.0], [2.0, 3.0]])\n",
    "conv2d(X, K)"
   ]
  },
  {
   "cell_type": "markdown",
   "id": "9f1b8a13",
   "metadata": {},
   "source": [
    "27. Implement Convolution ($II$).\n",
    "\n",
    "(**Multiple Input and Multiple Output Channels**)\n",
    "While we described the multiple channels that comprise each image (e.g., color images have the standard RGB channels\n",
    "to indicate the amount of red, green and blue) and convolutional layers for multiple channels.\n",
    "In `26`, we simplified all of our numerical examples by working with just a single input and a single output channel.\n",
    "This allowed us to think of our inputs, convolution kernels, and outputs each as two-dimensional tensors.\n",
    "\n",
    "When we add channels into the mix, our inputs and hidden representations both become three-dimensional tensors.\n",
    "For example, each RGB input image has shape $3\\times h\\times w$.\n",
    "We refer to this axis, with a size of 3, as the *channel* dimension. The notion of channels is as old as CNNs themselves.\n",
    "Let's take a deeper look at convolution kernels with multiple input and multiple output channels.\n",
    "\n",
    "**Multiple Input Channels**\n",
    "\n",
    "When the input data contains multiple channels,\n",
    "we need to construct a convolution kernel\n",
    "with the same number of input channels as the input data,\n",
    "so that it can perform cross-correlation with the input data.\n",
    "Assuming that the number of channels for the input data is $c_i$,\n",
    "the number of input channels of the convolution kernel also needs to be $c_i$. If our convolution kernel's window shape is $k_h\\times k_w$,\n",
    "then when $c_i=1$, we can think of our convolution kernel\n",
    "as just a two-dimensional tensor of shape $k_h\\times k_w$.\n",
    "\n",
    "However, when $c_i>1$, we need a kernel\n",
    "that contains a tensor of shape $k_h\\times k_w$ for *every* input channel. Concatenating these $c_i$ tensors together\n",
    "yields a convolution kernel of shape $c_i\\times k_h\\times k_w$.\n",
    "Since the input and convolution kernel each have $c_i$ channels, we can perform a cross-correlation operation on the two-dimensional tensor of the input and the two-dimensional tensor of the convolution kernel for each channel, adding the $c_i$ results together (summing over the channels)\n",
    "to yield a two-dimensional tensor.\n",
    "This is the result of a two-dimensional cross-correlation between a multi-channel input and a multi-input-channel convolution kernel.\n",
    "\n",
    "The below figure provides an example of a two-dimensional cross-correlation with two input channels.\n",
    "The shaded portions are the first output element\n",
    "as well as the input and kernel tensor elements used for the output computation:\n",
    "$(1\\times1+2\\times2+4\\times3+5\\times4)+(0\\times0+1\\times1+3\\times2+4\\times3)=56$.\n",
    "\n",
    "![Cross-correlation computation with 2 input channels.](./fig/conv-multi-in.svg)\n",
    "\n",
    "To make sure we really understand what is going on here,\n",
    "we can (**implement cross-correlation operations with multiple input channels**) ourselves.\n",
    "Notice that all we are doing is performing a cross-correlation operation\n",
    "per channel and then adding up the results."
   ]
  },
  {
   "cell_type": "code",
   "execution_count": 44,
   "id": "09b9dc6f",
   "metadata": {},
   "outputs": [
    {
     "data": {
      "text/plain": [
       "tensor([[ 56.,  72.],\n",
       "        [104., 120.]])"
      ]
     },
     "execution_count": 44,
     "metadata": {},
     "output_type": "execute_result"
    }
   ],
   "source": [
    "def conv2d_multi_in(X, K):\n",
    "    # Iterate through the 0th dimension (channel) of K first, then add them up\n",
    "    ### start your implementation here ###\n",
    "    res = None\n",
    "    # res = ...  # use the conv2d function above\n",
    "    ### end your implementation here ###\n",
    "    return res\n",
    "\n",
    "X = torch.tensor([[[0.0, 1.0, 2.0], [3.0, 4.0, 5.0], [6.0, 7.0, 8.0]],\n",
    "               [[1.0, 2.0, 3.0], [4.0, 5.0, 6.0], [7.0, 8.0, 9.0]]])\n",
    "K = torch.tensor([[[0.0, 1.0], [2.0, 3.0]], [[1.0, 2.0], [3.0, 4.0]]])\n",
    "\n",
    "conv2d_multi_in(X, K)"
   ]
  },
  {
   "cell_type": "markdown",
   "id": "fbc73e2b",
   "metadata": {},
   "source": [
    "**Multiple Output Channels**\n",
    "\n",
    "Regardless of the number of input channels, so far we always ended up with one output channel. However, as we discussed in the lecture,\n",
    "it turns out to be essential to have multiple channels at each layer.\n",
    "\n",
    "Denote by $c_i$ and $c_o$ the number of input and output channels, respectively,\n",
    "and let $k_h$ and $k_w$ be the height and width of the kernel.\n",
    "To get an output with multiple channels, we can create a kernel tensor\n",
    "of shape $c_i\\times k_h\\times k_w$ for *every* output channel.\n",
    "We concatenate them on the output channel dimension, so that the shape of the convolution kernel\n",
    "is $c_o\\times c_i\\times k_h\\times k_w$.\n",
    "In cross-correlation operations, the result on each output channel is calculated\n",
    "from the convolution kernel corresponding to that output channel and takes input from all channels in the input tensor.\n",
    "\n",
    "Implement a cross-correlation function to [**calculate the output of multiple channels**] in the below cell."
   ]
  },
  {
   "cell_type": "code",
   "execution_count": 45,
   "id": "1089cbce",
   "metadata": {},
   "outputs": [
    {
     "name": "stdout",
     "output_type": "stream",
     "text": [
      "torch.Size([3, 2, 2, 2])\n",
      "tensor([[[ 56.,  72.],\n",
      "         [104., 120.]],\n",
      "\n",
      "        [[ 76., 100.],\n",
      "         [148., 172.]],\n",
      "\n",
      "        [[ 96., 128.],\n",
      "         [192., 224.]]])\n"
     ]
    }
   ],
   "source": [
    "def conv2d_multi_in_out(X, K):\n",
    "    # Iterate through the 0th dimension of `K`, and each time, perform\n",
    "    # cross-correlation operations with input `X`. All of the results are\n",
    "    # stacked together\n",
    "\n",
    "    ### start your implementation here ###\n",
    "    res = None\n",
    "    # res = ...  # use the conv2d_multi_in function above\n",
    "    ### end your implementation here ###\n",
    "    return res\n",
    "\n",
    "K = torch.stack((K, K + 1, K + 2), 0)\n",
    "print(K.shape)\n",
    "\n",
    "print(conv2d_multi_in_out(X, K))\n",
    "\n"
   ]
  },
  {
   "cell_type": "markdown",
   "id": "bac9464c",
   "metadata": {},
   "source": [
    "28. Maximum Pooling and Average Pooling.\n",
    "\n",
    "Like convolutional layers, *pooling* operators consist of a fixed-shape window that is slid over\n",
    "all regions in the input according to its stride, computing a single output for each location traversed by the fixed-shape window (sometimes known as the *pooling window*).\n",
    "However, unlike the cross-correlation computation of the inputs and kernels in the convolutional layer, the pooling layer contains no parameters (there is no *kernel*).\n",
    "Instead, pooling operators are deterministic, typically calculating either the maximum or the average value\n",
    "of the elements in the pooling window.\n",
    "These operations are called *maximum pooling* (*max-pooling* for short) and *average pooling*, respectively.\n",
    "\n",
    "We can think of the pooling window as starting from the upper-left of the input tensor and sliding across the input tensor from left to right and top to bottom.\n",
    "At each location that the pooling window hits, it computes the maximum or average value of the input subtensor in the window, depending on whether max or average pooling is employed.\n",
    "\n",
    "![Max-pooling with a pooling window shape of $2\\times 2$. The shaded portions are the first output element as well as the input tensor elements used for the output computation: $\\max(0, 1, 3, 4)=4$.](./fig/pooling.svg)\n",
    "\n",
    "The output tensor in the above  has a height of 2 and a width of 2.\n",
    "The four elements are derived from the maximum value in each pooling window:\n",
    "\n",
    "$$\n",
    "\\max(0, 1, 3, 4)=4,\\\\\n",
    "\\max(1, 2, 4, 5)=5,\\\\\n",
    "\\max(3, 4, 6, 7)=7,\\\\\n",
    "\\max(4, 5, 7, 8)=8.\\\\\n",
    "$$\n",
    "\n",
    "More generally, we can define a $p \\times q$ pooling layer by aggregating over \n",
    "a region of said size. Returning to the problem of edge detection, \n",
    "we use the output of the convolutional layer\n",
    "as input for $2\\times 2$ max-pooling.\n",
    "Denote by `X` the input of the convolutional layer input and `Y` the pooling layer output. \n",
    "Regardless of whether or not the values of `X[i, j]`, `X[i, j + 1]`, \n",
    "`X[i+1, j]` and `X[i+1, j + 1]` are different,\n",
    "the pooling layer always outputs `Y[i, j] = 1`.\n",
    "That is to say, using the $2\\times 2$ max-pooling layer,\n",
    "we can still detect if the pattern recognized by the convolutional layer\n",
    "moves no more than one element in height or width.\n",
    "\n",
    "In the code below, please (**implement the forward propagation\n",
    "of the pooling layer**) in the `pool2d` function."
   ]
  },
  {
   "cell_type": "code",
   "execution_count": 9,
   "id": "f745d5a6",
   "metadata": {},
   "outputs": [
    {
     "name": "stdout",
     "output_type": "stream",
     "text": [
      "tensor([[4., 5.],\n",
      "        [7., 8.]])\n",
      "tensor([[2., 3.],\n",
      "        [5., 6.]])\n"
     ]
    }
   ],
   "source": [
    "def pool2d(X, pool_size, mode='max'):\n",
    "    p_h, p_w = pool_size\n",
    "    Y = torch.zeros((X.shape[0] - p_h + 1, X.shape[1] - p_w + 1))\n",
    "    for i in range(Y.shape[0]):\n",
    "        for j in range(Y.shape[1]):\n",
    "            if mode == 'max':\n",
    "                pass # delete this line and implement the code below\n",
    "                ### start your implementation here ###\n",
    "                # Y[...] = \n",
    "                ### end your implementation here ###\n",
    "            elif mode == 'avg':\n",
    "                pass # delete this line and implement the code below\n",
    "                ### start your implementation here ###\n",
    "                # Y[...] = \n",
    "                ### end your implementation here ###\n",
    "    return Y\n",
    "\n",
    "# verify max-pooling\n",
    "X = torch.tensor([[0.0, 1.0, 2.0], [3.0, 4.0, 5.0], [6.0, 7.0, 8.0]])\n",
    "print(pool2d(X, (2, 2)))\n",
    "\n",
    "# verify average-pooling\n",
    "print(pool2d(X, (2, 2), 'avg'))"
   ]
  }
 ],
 "metadata": {
  "kernelspec": {
   "display_name": "Python 3 (ipykernel)",
   "language": "python",
   "name": "python3"
  },
  "language_info": {
   "codemirror_mode": {
    "name": "ipython",
    "version": 3
   },
   "file_extension": ".py",
   "mimetype": "text/x-python",
   "name": "python",
   "nbconvert_exporter": "python",
   "pygments_lexer": "ipython3",
   "version": "3.8.13"
  },
  "vscode": {
   "interpreter": {
    "hash": "d45edca2f5434c2403be42af79178c45e0e83c032d39fe4a399216f220979472"
   }
  }
 },
 "nbformat": 4,
 "nbformat_minor": 5
}
